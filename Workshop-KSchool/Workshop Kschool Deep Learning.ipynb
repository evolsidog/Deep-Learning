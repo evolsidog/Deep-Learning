{
 "cells": [
  {
   "cell_type": "markdown",
   "metadata": {},
   "source": [
    "This tutorial was taken from https://colab.research.google.com/drive/17V67nca1HVwwOlC_ruC8SOhQRC3olMBB#scrollTo=K4xWL3WykrB8"
   ]
  },
  {
   "cell_type": "markdown",
   "metadata": {},
   "source": [
    "What is Deep Learning?\n",
    "\n",
    "In classical programming, we define some rules to obtain answers from input data:  \n",
    "rules + data -> answers  \n",
    "\n",
    "In Machine Learning, we have data and we know the answers corresponding to that data (labels). We use a method to extract rules to get the same kind of anwsers for data we have not seen yet  \n",
    "data + anwers -> rules  \n",
    "\n",
    "How does machine learning work? The concept of data representation is key. A machine learning method will find a representation of the data that makes it easier to solve a given problem. Machine Learning methods provide a way to automatically find such a representation.  \n",
    "\n",
    "For Machine Learning, you need an objective function. This function will tell you if you are farther or closer to the solution of the problem.  \n",
    "Now you also need a method to move you closer to the solution. Often, we will use the gradient descent method (https://turing.iimas.unam.mx/~ivanvladimir/post/gradient_descent), with some variants and specific details depending on the specific Machine Learning method.  \n",
    "\n",
    "Then Machine Learning is just a numerical optimization problem, trying to find the minimum of the objective function, by using an optimization method, typically gradient descent.  \n",
    "\n",
    "Deep Learning is a just subset of Machine Learning. But a very powerful and peculiar one. Deep Learning has solved problems that were intractable before, and has provided great improvements over previous problems.  \n",
    "\n",
    "In Deep Learning, we learn layers of increasingly better representations. The deep in Deep Learning refers to the number of layers that we learn. Before Deep Learning, the models that we are going to see today were much shallower. The most typical form of the layer representations is neural networks. As we will see, neural networks are just chain of matrix operations -- arrays of 2 dimensions--, or more precisely, tensor operations, we will operate in dimensions higher than 2.  \n",
    "\n",
    "If all this sounds abstract, don't worry. Just follow the rest of the notebook. These series of videos can help you understand the concepts too:\n",
    "https://www.youtube.com/watch?v=aircAruvnKk&list=PLZHQObOWTQDNU6R1_67000Dx_ZCJB-3pi"
   ]
  },
  {
   "cell_type": "code",
   "execution_count": null,
   "metadata": {},
   "outputs": [],
   "source": []
  }
 ],
 "metadata": {
  "kernelspec": {
   "display_name": "Python 3",
   "language": "python",
   "name": "python3"
  },
  "language_info": {
   "codemirror_mode": {
    "name": "ipython",
    "version": 3
   },
   "file_extension": ".py",
   "mimetype": "text/x-python",
   "name": "python",
   "nbconvert_exporter": "python",
   "pygments_lexer": "ipython3",
   "version": "3.6.4"
  }
 },
 "nbformat": 4,
 "nbformat_minor": 2
}
